{
 "cells": [
  {
   "cell_type": "markdown",
   "metadata": {},
   "source": [
    "\n",
    "20/10\n",
    "Tipos de datos compuestos. Estructuras de control repetitivas. \n",
    "Índices y slices\n",
    "Diccionarios como acumuladores/contadores"
   ]
  },
  {
   "cell_type": "markdown",
   "metadata": {},
   "source": [
    "### Listas\n",
    "\n"
   ]
  },
  {
   "cell_type": "code",
   "execution_count": 1,
   "metadata": {
    "collapsed": false
   },
   "outputs": [
    {
     "name": "stdout",
     "output_type": "stream",
     "text": [
      "[1, 6, 3, 9, 5, 2]\n",
      "<type 'list'>\n"
     ]
    }
   ],
   "source": [
    "lista_de_numeros = [1, 6, 3, 9, 5, 2]\n",
    "print lista_de_numeros\n",
    "print type(lista_de_numeros)\n"
   ]
  },
  {
   "cell_type": "markdown",
   "metadata": {},
   "source": [
    "Es fácil saber si un número está en la lista o no:"
   ]
  },
  {
   "cell_type": "code",
   "execution_count": 2,
   "metadata": {
    "collapsed": false
   },
   "outputs": [
    {
     "name": "stdout",
     "output_type": "stream",
     "text": [
      "El 5 esta en [1, 6, 3, 9, 5, 2]?: True\n",
      "El 7 esta en [1, 6, 3, 9, 5, 2]?: False\n"
     ]
    }
   ],
   "source": [
    "print 'El %s esta en %s?: %s' % (5, lista_de_numeros, 5 in lista_de_numeros)\n",
    "print 'El %s esta en %s?: %s' % (7, lista_de_numeros, 7 in lista_de_numeros)"
   ]
  },
  {
   "cell_type": "markdown",
   "metadata": {},
   "source": [
    "El operador **in** también funciona para strings (es *case sensitive*):"
   ]
  },
  {
   "cell_type": "code",
   "execution_count": 3,
   "metadata": {
    "collapsed": false
   },
   "outputs": [
    {
     "name": "stdout",
     "output_type": "stream",
     "text": [
      "mundo in \"Hola mundo\":  True\n",
      "MUNDO in \"Hola mundo\":  False\n"
     ]
    }
   ],
   "source": [
    "print 'mundo in \"Hola mundo\": ', 'mundo' in \"Hola mundo\"\n",
    "print 'MUNDO in \"Hola mundo\": ', 'MUNDO' in \"Hola mundo\""
   ]
  },
  {
   "cell_type": "markdown",
   "metadata": {},
   "source": []
  },
  {
   "cell_type": "code",
   "execution_count": 4,
   "metadata": {
    "collapsed": false
   },
   "outputs": [
    {
     "name": "stdout",
     "output_type": "stream",
     "text": [
      "[1, 2, 3, 5, 6, 9]\n",
      "[9, 6, 5, 3, 2, 1]\n"
     ]
    }
   ],
   "source": []
  },
  {
   "cell_type": "markdown",
   "metadata": {},
   "source": [
    "O modificar un elemento de la lista:"
   ]
  },
  {
   "cell_type": "code",
   "execution_count": 5,
   "metadata": {
    "collapsed": false
   },
   "outputs": [
    {
     "name": "stdout",
     "output_type": "stream",
     "text": [
      "[1, 6, 3, 152, 5, 2]\n"
     ]
    }
   ],
   "source": [
    "lista_de_numeros[3] = 152\n",
    "print lista_de_numeros"
   ]
  },
  {
   "cell_type": "markdown",
   "metadata": {},
   "source": [
    "En ningún momento dijimos que la lista era de enteros, por lo que tranquilamente podemos guardar elementos de distintos tipos de datos"
   ]
  },
  {
   "cell_type": "code",
   "execution_count": 6,
   "metadata": {
    "collapsed": false
   },
   "outputs": [
    {
     "name": "stdout",
     "output_type": "stream",
     "text": [
      "[2, 5.5, 'letras', [1, 2, 3], ('tupla', 'de', 'strings')]\n"
     ]
    }
   ],
   "source": [
    "lista_de_cosas = [2, 5.5, 'letras', [1, 2, 3], ('tupla', 'de', 'strings')]\n",
    "print lista_de_cosas"
   ]
  },
  {
   "cell_type": "markdown",
   "metadata": {},
   "source": [
    "Para eliminar un elemento sólo tenemos que usar la función **del** e indicar la posición."
   ]
  },
  {
   "cell_type": "code",
   "execution_count": 7,
   "metadata": {
    "collapsed": false
   },
   "outputs": [
    {
     "name": "stdout",
     "output_type": "stream",
     "text": [
      "Lista de cosas: [2, 5.5, 'letras', [1, 2, 3], ('tupla', 'de', 'strings')]\n",
      "Después de eliminar la posición 3: [2, 5.5, 'letras', ('tupla', 'de', 'strings')]\n"
     ]
    }
   ],
   "source": [
    "lista_de_cosas = [2, 5.5, 'letras', [1, 2, 3], ('tupla', 'de', 'strings')]\n",
    "print 'Lista de cosas:', lista_de_cosas\n",
    "\n",
    "del lista_de_cosas[3]\n",
    "print 'Después de eliminar la posición 3:', lista_de_cosas"
   ]
  },
  {
   "cell_type": "markdown",
   "metadata": {},
   "source": [
    "Y con las listas también se pueden hacer *slices*:"
   ]
  },
  {
   "cell_type": "code",
   "execution_count": 8,
   "metadata": {
    "collapsed": false
   },
   "outputs": [
    {
     "name": "stdout",
     "output_type": "stream",
     "text": [
      "primer elemento: 2\n",
      "último: ('tupla', 'de', 'strings')\n",
      "del_segundo_al_ultimo_sin_incluirlo: [5.5, 'letras', ('tupla', 'de', 'strings')]\n",
      "del_segundo_al_ultimo_sin_incluirlo: [5.5, 'letras']\n",
      "del_segundo_al_ultimo_incluyendolo: [5.5, 'letras', ('tupla', 'de', 'strings')]\n"
     ]
    }
   ],
   "source": [
    "print 'primer elemento:', lista_de_cosas[0]\n",
    "ultimo = lista_de_cosas[-1]\n",
    "print 'último:', ultimo\n",
    "print 'del_segundo_al_ultimo_sin_incluirlo:', lista_de_cosas[1:4]\n",
    "print 'del_segundo_al_ultimo_sin_incluirlo:', lista_de_cosas[1:-1]\n",
    "print 'del_segundo_al_ultimo_incluyendolo:', lista_de_cosas[1:]"
   ]
  },
  {
   "cell_type": "markdown",
   "metadata": {},
   "source": [
    "Existe una función llamada *range* que crea permite crear listas de números:"
   ]
  },
  {
   "cell_type": "code",
   "execution_count": 9,
   "metadata": {
    "collapsed": false
   },
   "outputs": [
    {
     "name": "stdout",
     "output_type": "stream",
     "text": [
      "range(stop) -> list of integers\n",
      "range(start, stop[, step]) -> list of integers\n",
      "\n",
      "Return a list containing an arithmetic progression of integers.\n",
      "range(i, j) returns [i, i+1, i+2, ..., j-1]; start (!) defaults to 0.\n",
      "When step is given, it specifies the increment (or decrement).\n",
      "For example, range(4) returns [0, 1, 2, 3].  The end point is omitted!\n",
      "These are exactly the valid indices for a list of 4 elements.\n",
      "\n",
      "Ejemplos:\n",
      "  range(15): [0, 1, 2, 3, 4, 5, 6, 7, 8, 9, 10, 11, 12, 13, 14]\n",
      "  range(15)[2:9]: [2, 3, 4, 5, 6, 7, 8]\n",
      "  range(15)[2:9:3]: [2, 5, 8]\n",
      "  range(2,9): [2, 3, 4, 5, 6, 7, 8]\n",
      "  range(2,9,3): [2, 5, 8]\n"
     ]
    }
   ],
   "source": [
    "print range.__doc__\n",
    "print\n",
    "print 'Ejemplos:'\n",
    "print '  range(15):', range(15)\n",
    "print '  range(15)[2:9]:', range(15)[2:9]\n",
    "print '  range(15)[2:9:3]:', range(15)[2:9:3]\n",
    "print '  range(2,9):', range(2,9)\n",
    "print '  range(2,9,3):', range(2,9,3)"
   ]
  },
  {
   "cell_type": "markdown",
   "metadata": {},
   "source": [
    "### Tuplas\n",
    "\n",
    "Las tuplas son listas inmutables, es decir, que no se pueden modificar. \n",
    "Si no se pueden modificar, ¿para qué existen?. Porque crearlas es mucho más eficiente que crear listas y en muchas ocasiones, como con las constantes, queremos crear variables que no se modifiquen.\n"
   ]
  },
  {
   "cell_type": "code",
   "execution_count": 10,
   "metadata": {
    "collapsed": false
   },
   "outputs": [
    {
     "name": "stdout",
     "output_type": "stream",
     "text": [
      "(1, 2, 3, 4)\n"
     ]
    },
    {
     "ename": "NameError",
     "evalue": "name 'tupl' is not defined",
     "output_type": "error",
     "traceback": [
      "\u001b[1;31m---------------------------------------------------------------------------\u001b[0m",
      "\u001b[1;31mNameError\u001b[0m                                 Traceback (most recent call last)",
      "\u001b[1;32m<ipython-input-10-98180e13ced5>\u001b[0m in \u001b[0;36m<module>\u001b[1;34m()\u001b[0m\n\u001b[0;32m      3\u001b[0m \u001b[1;33m\u001b[0m\u001b[0m\n\u001b[0;32m      4\u001b[0m \u001b[0mtupla\u001b[0m \u001b[1;33m=\u001b[0m \u001b[0mtupla\u001b[0m\u001b[1;33m[\u001b[0m\u001b[1;36m2\u001b[0m\u001b[1;33m:\u001b[0m\u001b[1;36m4\u001b[0m\u001b[1;33m]\u001b[0m\u001b[1;33m\u001b[0m\u001b[0m\n\u001b[1;32m----> 5\u001b[1;33m \u001b[1;32mprint\u001b[0m \u001b[0mtupl\u001b[0m\u001b[1;33m\u001b[0m\u001b[0m\n\u001b[0m\u001b[0;32m      6\u001b[0m \u001b[1;32mprint\u001b[0m \u001b[0mtype\u001b[0m\u001b[1;33m(\u001b[0m\u001b[0mtupla\u001b[0m\u001b[1;33m)\u001b[0m\u001b[1;33m\u001b[0m\u001b[0m\n",
      "\u001b[1;31mNameError\u001b[0m: name 'tupl' is not defined"
     ]
    }
   ],
   "source": [
    "tupla = (1, 2, 3, 4)  # Se usa paréntesis en lugar de corchetes\n",
    "print tupla\n",
    "\n",
    "tupla = tupla[2:4]\n",
    "print tupl\n",
    "print type(tupla)"
   ]
  },
  {
   "cell_type": "markdown",
   "metadata": {},
   "source": [
    "### Diccionarios\n",
    "\n",
    "El equivalente a los registros de Pascal serían los diccionarios, pero éstos también ofrecen mayor flexibilidad:\n"
   ]
  },
  {
   "cell_type": "code",
   "execution_count": null,
   "metadata": {
    "collapsed": false
   },
   "outputs": [],
   "source": [
    "registros_con_campos_variables = {'campo1': 12, 'campo2': 'valor campo2'}\n",
    "print registros_con_campos_variables\n",
    "print type(registros_con_campos_variables)\n",
    "print\n",
    "\n",
    "print 'Le agrego un campo al diccionario'\n",
    "registros_con_campos_variables['otro_campo'] = 432\n",
    "print registros_con_campos_variables\n",
    "print \n",
    "\n",
    "print 'Y ahora otro, pero con un int como índice'\n",
    "registros_con_campos_variables[123] = 'también puede usarse los números como clave'\n",
    "print registros_con_campos_variables\n"
   ]
  },
  {
   "cell_type": "markdown",
   "metadata": {},
   "source": [
    "Además, se pueden usar los campos de un registro para armar una forma más simple los strings:"
   ]
  },
  {
   "cell_type": "code",
   "execution_count": null,
   "metadata": {
    "collapsed": false
   },
   "outputs": [],
   "source": [
    "alumno = {\n",
    "    'nombre': 'Juan',\n",
    "    'apellido': 'Perez',\n",
    "    'nota': 2\n",
    "}\n",
    "\n",
    "print 'El alumno %(nombre)s %(apellido)s se sacó un %(nota)s' % alumno\n",
    "print 'El alumno {nombre} {apellido} se sacó un {nota}'.format(**alumno)"
   ]
  },
  {
   "cell_type": "markdown",
   "metadata": {},
   "source": [
    "Y si le queremos modificar la nota a un alumno, sólo tenemos que acceder a ese campo y asignarle un nuevo valor:"
   ]
  },
  {
   "cell_type": "code",
   "execution_count": null,
   "metadata": {
    "collapsed": false
   },
   "outputs": [],
   "source": [
    "alumno = {\n",
    "    'nombre': 'Juan',\n",
    "    'apellido': 'Perez',\n",
    "    'nota': 2\n",
    "}\n",
    "print alumno\n",
    "\n",
    "alumno['nota'] = 5\n",
    "print alumno\n"
   ]
  },
  {
   "cell_type": "markdown",
   "metadata": {},
   "source": [
    "O incluso se le puede cambiar el tipo de dato a un campo y agregar uno nuevo:"
   ]
  },
  {
   "cell_type": "code",
   "execution_count": null,
   "metadata": {
    "collapsed": false
   },
   "outputs": [],
   "source": [
    "alumno = {\n",
    "    'nombre': 'Juan',\n",
    "    'apellido': 'Perez',\n",
    "    'parcial': 2\n",
    "}\n",
    "print 'Alumno:', alumno\n",
    "\n",
    "\n",
    "alumno['parcial'] = [2, 6]  # Cambio el tipo de dato de int a list\n",
    "print 'Agrego la nota del recuperatorio:', alumno\n",
    "\n",
    "alumno['coloquio'] = 8  # Agrego un nuevo campo\n",
    "print 'Agrego la nota del coloquio:', alumno\n",
    "\n",
    "del alumno['parcial']  # Elimino el campo nota\n",
    "print 'Elimino las notas del parcial:', alumno"
   ]
  },
  {
   "cell_type": "markdown",
   "metadata": {},
   "source": [
    "Algo que hay que tener en cuenta es que el orden en que se asignan los campos a un registro no es el orden interno de esos campos."
   ]
  },
  {
   "cell_type": "markdown",
   "metadata": {},
   "source": [
    "# Estructuras de control\n",
    "\n",
    "Así como en Pascal se delimitan los bloques de código con las palabras reservadas *begin* y *end*, en Python se usan la indentación (espacios) para determinar qué se encuentra dentro de una estructura de control y qué no."
   ]
  },
  {
   "cell_type": "markdown",
   "metadata": {},
   "source": [
    "## for\n",
    "\n",
    "Si queremos imprimir los números del 0 al 14 podemos crear una lista con range y usar el for para imprimir cada valor:"
   ]
  },
  {
   "cell_type": "code",
   "execution_count": null,
   "metadata": {
    "collapsed": false
   },
   "outputs": [],
   "source": [
    "for i in range(15):\n",
    "    print i"
   ]
  },
  {
   "cell_type": "markdown",
   "metadata": {},
   "source": [
    "Incluso, si queremos imprimir los valores de una lista que nosotros armamos, también podemos hacerlo:"
   ]
  },
  {
   "cell_type": "code",
   "execution_count": null,
   "metadata": {
    "collapsed": false
   },
   "outputs": [],
   "source": [
    "for i in [1, 6, 3, 9, 5, 2]:\n",
    "    print i\n"
   ]
  },
  {
   "cell_type": "markdown",
   "metadata": {},
   "source": [
    "Y si queremos imprimir cada elemento de la lista junto con su posición podemos usar la función enumerate:"
   ]
  },
  {
   "cell_type": "code",
   "execution_count": null,
   "metadata": {
    "collapsed": false
   },
   "outputs": [],
   "source": [
    "lista = range(15, 30, 3)\n",
    "print lista\n",
    "for idx, value in enumerate(lista):\n",
    "    print '%s: %s' % (idx, value)\n"
   ]
  },
  {
   "cell_type": "markdown",
   "metadata": {},
   "source": [
    "También se puede usar la función zip para ir tomando los primeros elementos de una lista, después los segundos, y así sucesivamente"
   ]
  },
  {
   "cell_type": "code",
   "execution_count": null,
   "metadata": {
    "collapsed": false
   },
   "outputs": [],
   "source": [
    "for par in zip([1, 2, 3], [4, 5, 6]):\n",
    "    print par"
   ]
  },
  {
   "cell_type": "markdown",
   "metadata": {},
   "source": [
    "Y en realidad, se puede iterar sobre cualquier elemento *iterable*, como por ejemplo los strings:"
   ]
  },
  {
   "cell_type": "code",
   "execution_count": null,
   "metadata": {
    "collapsed": false
   },
   "outputs": [],
   "source": [
    "for caracter in \"Hola mundo\":\n",
    "    print caracter\n"
   ]
  },
  {
   "cell_type": "markdown",
   "metadata": {},
   "source": [
    "También se pueden iterar listas que tengan distintos tipos de elementos, pero hay que tener en cuenta qué se quiere hacer con ellos:"
   ]
  },
  {
   "cell_type": "code",
   "execution_count": null,
   "metadata": {
    "collapsed": false
   },
   "outputs": [],
   "source": [
    "lista = [1, 2, \"12\", \"34\", [5, 6]]\n",
    "print 'La lista tiene los elementos:', lista\n",
    "for elemento in lista:\n",
    "    print '{0}*2: {1}:'.format(elemento, elemento*2)\n"
   ]
  },
  {
   "cell_type": "markdown",
   "metadata": {},
   "source": [
    "## while\n",
    "\n",
    "El ciclo while también ejecuta un bloque de código mientras la condición sea verdadera:"
   ]
  },
  {
   "cell_type": "code",
   "execution_count": null,
   "metadata": {
    "collapsed": false
   },
   "outputs": [],
   "source": [
    "numero = 5\n",
    "while numero < 10:\n",
    "    print numero\n",
    "    numero += 1"
   ]
  },
  {
   "cell_type": "markdown",
   "metadata": {},
   "source": [
    "Las listas tienen una función llamada pop que lo que hace es tomar el último elemento de ella y lo elimina:"
   ]
  },
  {
   "cell_type": "code",
   "execution_count": null,
   "metadata": {
    "collapsed": false
   },
   "outputs": [],
   "source": [
    "lista = range(5)\n",
    "print 'La lista antes de entrar al while tiene:', lista\n",
    "while lista:  # Si la lista no esta vacía, sigo sacando elementos\n",
    "    print lista.pop()\n",
    "\n",
    "print 'La lista después de salir del while tiene:', lista"
   ]
  },
  {
   "cell_type": "markdown",
   "metadata": {},
   "source": [
    "Aunque también podría obtener el primero:"
   ]
  },
  {
   "cell_type": "code",
   "execution_count": null,
   "metadata": {
    "collapsed": false
   },
   "outputs": [],
   "source": [
    "lista = range(5)\n",
    "print 'La lista antes de entrar al while tiene:', lista\n",
    "while lista:  # Si la lista no esta vacía, sigo sacando elementos\n",
    "    print lista.pop(0)\n",
    "\n",
    "print 'La lista después de salir del while tiene:', lista"
   ]
  },
  {
   "cell_type": "markdown",
   "metadata": {
    "collapsed": true
   },
   "source": [
    "# Ejercicios\n",
    "1. Dado un número N, calcular su factorial\n",
    "2. Procesar una lista de números enteros, e imprimir para cada uno de ellos:\n",
    "  * el número que se esta procesando\n",
    "  * la suma parcial de los mismos\n",
    "3. La relación entre temperaturas Celsius y Fahrenheit está dada por: $$C = 5/9 * (F-32)$$ Escribir un algoritmo que haga una tabla de valores Celsius-Fahrenheit, para valores entre O F y 200 F , con intervalos de 10 grados.\n",
    "4. Procesar una lista de números enteros, e imprimir para cada uno de ellos:\n",
    "  * el número que se esta procesando\n",
    "  * la suma parcial de los mismos\n",
    "  * True si el número era mayor al anterior y False en caso contrario\n",
    "\n",
    "  Cortar cuando se los haya procesado a todos, o al alcanzar una suma parcial mayor o igual a 100\n",
    "5. Procesar una lista de números y generar un diccionario con dos claves llamadas \"par\" e \"impar\". Al terminar de procesar la lista el diccionario debe tener todos los números que proceso agrupados en pares e impares.\n",
    "\n",
    "  Por ejemplo, si contamos con la lista [1, 5, 2, 6, 9, 3, 8], el diccionario que se obtenga debería ser: {\"par\": [2, 6, 8], \"impar\": [1, 5, 9, 3]}\n",
    "6. Dada una lista de números enteros y un entero k, escribir una función que muestre todo el vector multiplicado por k.\n",
    "7. Escribir una función que dadas dos listas de igual longitud imprima la suma de ellas posición a posición.\n",
    "8. Suponiendo que cuenta con una lista en la que en cada posición tiene la información de un alumno en un registro:\n",
    "  ```Python\n",
    "[{'nombre': 'XX', 'padrón': 1, 'nota': 4}, ...]\n",
    "  ```\n",
    "  Se desea imprimir el nombre y padrón de todos los alumnos aprobados.\n",
    "8. Se cuenta con dos listas de números ordenadas de forma creciente y se desea obtener una nueva lista ordenada que contenga todos los números, pero sin ordenarla nuevamente.\n",
    "9. Procesar una lista de strings e ir guardando en un diccionario la cantidad de ocurrencias de cada palabra (distinguir mayúsculas y minúsculas).\n",
    "  Por ejemplo, para la lista \n",
    "  ```Python\n",
    "['Otra', 'posible', 'clasificacion', 'radica', 'en', 'si', 'una', 'variable', 'puede', 'cambiar', 'el', 'tipo', 'de', 'dato', 'que', 'se', 'puede', 'almacenar', 'en', 'ella', 'entre', 'una', 'sentencia', 'y', 'la', 'siguiente', '(', 'tipado', 'dinamico', ')', 'O', 'si', 'en', 'la', 'etapa', 'de', 'definicion', 'se', 'le', 'asigna', 'un', 'tipo', 'de', 'dato', 'a', 'una', 'variable', 'y', 'por', 'mas', 'que', 'se', 'puede', 'cambiar', 'el', 'contenido', 'de', 'la', 'misma', 'no', 'cambie', 'el', 'tipo', 'de', 'dato', 'de', 'lo', 'que', 'se', 'almacena', 'en', 'ella', '(', 'tipado', 'estatico', ')']\n",
    "```\n",
    "  El resultado sería:\n",
    "```Python\n",
    "  {'el': 3, 'en': 4, 'etapa': 1, 'por': 1, 'Otra': 1, 'contenido': 1, 'almacenar': 1, 'sentencia': 1, 'le': 1, 'tipo': 3, 'la': 3, ')': 2, '(': 2, 'almacena': 1, 'estatico': 1, 'dinamico': 1, 'mas': 1, 'cambiar': 2, 'tipado': 2, 'ella': 2, 'de': 6, 'definicion': 1, 'puede': 3, 'dato': 3, 'que': 3, 'O': 1, 'variable': 2, 'asigna': 1, 'entre': 1, 'a': 1, 'siguiente': 1, 'posible': 1, 'clasificacion': 1, 'no': 1, 'radica': 1, 'una': 3, 'si': 2, 'un': 1, 'misma': 1, 'lo': 1, 'y': 2, 'cambie': 1, 'se': 4}\n",
    "```\n"
   ]
  },
  {
   "cell_type": "code",
   "execution_count": null,
   "metadata": {
    "collapsed": true
   },
   "outputs": [],
   "source": []
  }
 ],
 "metadata": {
  "kernelspec": {
   "display_name": "Python 2",
   "language": "python",
   "name": "python2"
  },
  "language_info": {
   "codemirror_mode": {
    "name": "ipython",
    "version": 2
   },
   "file_extension": ".py",
   "mimetype": "text/x-python",
   "name": "python",
   "nbconvert_exporter": "python",
   "pygments_lexer": "ipython2",
   "version": "2.7.10"
  }
 },
 "nbformat": 4,
 "nbformat_minor": 0
}
