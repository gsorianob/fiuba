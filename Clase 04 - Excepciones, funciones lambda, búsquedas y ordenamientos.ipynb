{
 "cells": [
  {
   "cell_type": "markdown",
   "metadata": {},
   "source": [
    "\n",
    "27/10\n",
    "Funciones anónimas.\n",
    "Ordenamientos y búsquedas\n",
    "Listas vs Generadores\n",
    "Excepciones. "
   ]
  },
  {
   "cell_type": "markdown",
   "metadata": {},
   "source": [
    "## Ordenamiento de listas\n",
    "\n",
    "Las listas se pueden ordenar fácilmente usando la función sorted:\n"
   ]
  },
  {
   "cell_type": "code",
   "execution_count": 3,
   "metadata": {
    "collapsed": false
   },
   "outputs": [
    {
     "name": "stdout",
     "output_type": "stream",
     "text": [
      "[1, 2, 3, 5, 6, 9]\n",
      "[9, 6, 5, 3, 2, 1]\n"
     ]
    }
   ],
   "source": [
    "lista_de_numeros = [1, 6, 3, 9, 5, 2]\n",
    "lista_ordenada = sorted(lista_de_numeros)\n",
    "print lista_ordenada\n",
    "print sorted(lista_de_numeros, reverse=True)"
   ]
  },
  {
   "cell_type": "markdown",
   "metadata": {},
   "source": [
    "## Funciones anónimas\n",
    "\n",
    "Hasta ahora, a todas las funciones que creamos les poníamos un nombre al momento de crearlas, pero cuando tenemos que crear funciones que sólo tienen una línea y no se usen en una gran cantidad de lugares se pueden usar las funciones lambda:"
   ]
  },
  {
   "cell_type": "code",
   "execution_count": null,
   "metadata": {
    "collapsed": false
   },
   "outputs": [],
   "source": [
    "help(\"lambda\")"
   ]
  },
  {
   "cell_type": "code",
   "execution_count": null,
   "metadata": {
    "collapsed": false
   },
   "outputs": [],
   "source": [
    "mi_funcion = lambda x, y: x+y\n",
    "\n",
    "resultado = mi_funcion(1,2)\n",
    "print resultado"
   ]
  },
  {
   "cell_type": "markdown",
   "metadata": {},
   "source": [
    "Si bien no son funciones que se usen todos los días, se suelen usar cuando una función recibe otra función como parámetro (las funciones son un tipo de dato, por lo que se las pueden asignar a variables, y por lo tanto, también pueden ser parámetros):\n",
    "\n",
    "```Python\n",
    "sorted(lista_puntajes, key=lambda x: (-x['puntaje'], x['usuario']))\n",
    "```\n",
    "\n",
    "En este caso la función sorted permite ordenar cualquier lista de elementos, pero si tengo una lista con los siguientes diccionarios:\n",
    "\n",
    "```Python\n",
    "lista_puntaje = [\n",
    "    {'usuario': 'usuario1', 'puntaje': 3}, \n",
    "    {'usuario': 'usuario2', 'puntaje': 5}, \n",
    "    {'usuario': 'usuario3', 'puntaje': 3}, \n",
    "]\n",
    "```\n",
    "Y quiero que los ordene primero por puntaje en forma decreciente y, en caso de igualdad, por nombre de usuario en forma creciente tengo que redefinir la forma en que se comparan los elementos, y para eso uso la función lambda. <br>\n",
    "\n",
    "Otro posible uso de las funciones anónimas es para usarlas como parámetros de una función:"
   ]
  },
  {
   "cell_type": "code",
   "execution_count": null,
   "metadata": {
    "collapsed": false
   },
   "outputs": [],
   "source": [
    "es_mayor = lambda n1, n2: n1 > n2\n",
    "es_menor = lambda n1, n2: n1 < n2\n",
    "\n",
    "\n",
    "def binaria(cmp, lista, clave):\n",
    "    \"\"\"Binaria es una función que busca en una lista la clave pasada. Es un requisito\n",
    "    de la búsqueda binaria que la lista se encuentre ordenada, pero no si el orden\n",
    "    es ascendente o descendente. Por este motivo es que también recibe una función\n",
    "    que le indique en que sentido ir.\n",
    "    Si la lista esta ordenada en forma ascendente la función que se le pasa tiene\n",
    "    que ser verdadera cuando el primer valor es mayor que la segundo; y falso en\n",
    "    caso contrario.\n",
    "    Si la lista esta ordenada en forma descendente la función que se le pasa tiene\n",
    "    que ser verdadera cuando el primer valor es menor que la segundo; y falso en\n",
    "    caso contrario.\n",
    "    \"\"\"\n",
    "    min = 0\n",
    "    max = len(lista) - 1\n",
    "    centro = (min + max) / 2\n",
    "    while (lista[centro] != clave) and (min < max):\n",
    "        if cmp(lista[centro], clave):\n",
    "            max = centro - 1\n",
    "        else:\n",
    "            min = centro + 1\n",
    "        centro = (min + max) / 2\n",
    "    if lista[centro] == clave:\n",
    "        return centro\n",
    "    else:\n",
    "        return -1\n",
    "\n",
    "print binaria(es_mayor, [1, 2, 3, 4, 5, 6, 7, 8, 9], 8)\n",
    "print binaria(es_menor, [1, 2, 3, 4, 5, 6, 7, 8, 9], 8)\n",
    "print binaria(es_mayor, [1, 2, 3, 4, 5, 6, 7, 8, 9], 123)\n",
    "\n",
    "print binaria(es_menor, [9, 8, 7, 6, 5, 4, 3, 2, 1], 6)\n"
   ]
  },
  {
   "cell_type": "markdown",
   "metadata": {
    "collapsed": true
   },
   "source": [
    "# Excepciones\n",
    "Una excepción es la forma que tiene el intérprete de que indicarle al programador y/o usuario que ha ocurrido un error. Si la excepción no es controlada por el desarrollador ésta llega hasta el usuario y termina abruptamente la ejecución del sistema. <br>\n",
    "Por ejemplo:"
   ]
  },
  {
   "cell_type": "code",
   "execution_count": 11,
   "metadata": {
    "collapsed": false
   },
   "outputs": [
    {
     "ename": "ZeroDivisionError",
     "evalue": "integer division or modulo by zero",
     "output_type": "error",
     "traceback": [
      "\u001b[1;31m---------------------------------------------------------------------------\u001b[0m",
      "\u001b[1;31mZeroDivisionError\u001b[0m                         Traceback (most recent call last)",
      "\u001b[1;32m<ipython-input-11-e19d6e6ac7e1>\u001b[0m in \u001b[0;36m<module>\u001b[1;34m()\u001b[0m\n\u001b[1;32m----> 1\u001b[1;33m \u001b[1;32mprint\u001b[0m \u001b[1;36m1\u001b[0m\u001b[1;33m/\u001b[0m\u001b[1;36m0\u001b[0m\u001b[1;33m\u001b[0m\u001b[0m\n\u001b[0m",
      "\u001b[1;31mZeroDivisionError\u001b[0m: integer division or modulo by zero"
     ]
    }
   ],
   "source": [
    "print 1/0"
   ]
  },
  {
   "cell_type": "markdown",
   "metadata": {},
   "source": [
    "Pero no hay que tenerle miedo a las excepciones, sólo hay que tenerlas en cuenta y controlarlas en el caso de que ocurran:"
   ]
  },
  {
   "cell_type": "code",
   "execution_count": null,
   "metadata": {
    "collapsed": false
   },
   "outputs": [],
   "source": [
    "dividendo = 1\n",
    "divisor = 0\n",
    "print 'Intentare hacer la división de %d/%d' % (dividendo, divisor)\n",
    "try:\n",
    "    resultado = dividendo / divisor\n",
    "    print resultado\n",
    "except ZeroDivisionError:\n",
    "    print 'No se puede hacer la división ya que el divisor es 0.'"
   ]
  },
  {
   "cell_type": "markdown",
   "metadata": {},
   "source": [
    "Pero supongamos que implementamos la regla de tres de la siguiente forma:"
   ]
  },
  {
   "cell_type": "code",
   "execution_count": null,
   "metadata": {
    "collapsed": false
   },
   "outputs": [],
   "source": [
    "def dividir(x, y):\n",
    "    return x/y\n",
    "\n",
    "def regla_de_tres(x, y, z):\n",
    "    return dividir(z*y, x)\n",
    "\n",
    "\n",
    "# Si de 28 alumnos, aprobaron 15, el porcentaje de aprobados es de...\n",
    "porcentaje_de_aprobados = regla_de_tres(28, 15, 100)\n",
    "print 'Porcentaje de aprobados: %0.2f %%' % porcentaje_de_aprobados"
   ]
  },
  {
   "cell_type": "markdown",
   "metadata": {},
   "source": [
    "En cambio, si le pasamos 0 en el lugar de x:"
   ]
  },
  {
   "cell_type": "code",
   "execution_count": null,
   "metadata": {
    "collapsed": false
   },
   "outputs": [],
   "source": [
    "resultado = regla_de_tres(0, 13, 100)\n",
    "print 'Porcentaje de aprobados: %0.2f %%' % resultado"
   ]
  },
  {
   "cell_type": "markdown",
   "metadata": {},
   "source": [
    "Acá podemos ver todo el *traceback* o *stacktrace*, que son el cómo se fueron llamando las distintas funciones entre sí hasta que llegamos al error. <br>\n",
    "Pero no es bueno que este tipo de excepciones las vea directamente el usuario, por lo que podemos controlarlas en distintos momentos. Se pueden controlar inmediatamente donde ocurre el error, como mostramos antes, o en cualquier parte de este *stacktrace*. <br>\n",
    "En el caso de la regla_de_tres no nos conviene poner el try/except encerrando la línea x/y, ya que en ese punto no tenemos toda la información que necesitamos para informarle correctamente al usuario, por lo que podemos ponerla en:"
   ]
  },
  {
   "cell_type": "code",
   "execution_count": null,
   "metadata": {
    "collapsed": false
   },
   "outputs": [],
   "source": [
    "def dividir(x, y):\n",
    "    return x/y\n",
    "\n",
    "def regla_de_tres(x, y, z):\n",
    "    resultado = 0\n",
    "    try:\n",
    "        resultado = dividir(z*y, x)\n",
    "    except ZeroDivisionError:\n",
    "        print 'No se puede calcular la regla de tres porque el divisor es 0'\n",
    "        \n",
    "    return resultado\n",
    "        \n",
    "print regla_de_tres(0, 1, 2)"
   ]
  },
  {
   "cell_type": "markdown",
   "metadata": {},
   "source": [
    "Pero en este caso igual muestra 0, por lo que si queremos, podemos poner los try/except incluso más arriba en el stacktrace:"
   ]
  },
  {
   "cell_type": "code",
   "execution_count": null,
   "metadata": {
    "collapsed": false
   },
   "outputs": [],
   "source": [
    "def dividir(x, y):\n",
    "    return x/y\n",
    "\n",
    "def regla_de_tres(x, y, z):\n",
    "    return dividir(z*y, x)\n",
    "        \n",
    "try:\n",
    "    print regla_de_tres(0, 1, 2)\n",
    "except ZeroDivisionError:\n",
    "    print 'No se puede calcular la regla de tres porque el divisor es 0'\n"
   ]
  },
  {
   "cell_type": "markdown",
   "metadata": {},
   "source": [
    "Todos los casos son distintos y no hay UN lugar ideal dónde capturar la excepción; es cuestión del desarrollador decidir dónde conviene ponerlo para cada problema. <br>\n",
    "Incluso, una única línea puede lanzar distintas excepciones, por lo que capturar un tipo de excepción en particular no me asegura que el programa no pueda lanzar un error en esa línea que supuestamente es segura:"
   ]
  },
  {
   "cell_type": "markdown",
   "metadata": {},
   "source": [
    "### Capturar múltiples excepciones\n",
    "\n",
    "En algunos casos tenemos en cuenta que el código puede lanzar una excepción como la de `ZeroDivisionError`, pero eso puede no ser suficiente:"
   ]
  },
  {
   "cell_type": "code",
   "execution_count": 26,
   "metadata": {
    "collapsed": false
   },
   "outputs": [
    {
     "name": "stdout",
     "output_type": "stream",
     "text": [
      "ERROR: Ha ocurrido un error por mezclar tipos de datos\n",
      "El resultado es: 5\n"
     ]
    },
    {
     "ename": "TypeError",
     "evalue": "unsupported operand type(s) for /: 'str' and 'int'",
     "output_type": "error",
     "traceback": [
      "\u001b[1;31m---------------------------------------------------------------------------\u001b[0m",
      "\u001b[1;31mTypeError\u001b[0m                                 Traceback (most recent call last)",
      "\u001b[1;32m<ipython-input-26-0976f95f1946>\u001b[0m in \u001b[0;36m<module>\u001b[1;34m()\u001b[0m\n\u001b[0;32m      8\u001b[0m \u001b[0mdividir_numeros\u001b[0m\u001b[1;33m(\u001b[0m\u001b[1;36m1\u001b[0m\u001b[1;33m,\u001b[0m \u001b[1;36m0\u001b[0m\u001b[1;33m)\u001b[0m\u001b[1;33m\u001b[0m\u001b[0m\n\u001b[0;32m      9\u001b[0m \u001b[0mdividir_numeros\u001b[0m\u001b[1;33m(\u001b[0m\u001b[1;36m10\u001b[0m\u001b[1;33m,\u001b[0m \u001b[1;36m2\u001b[0m\u001b[1;33m)\u001b[0m\u001b[1;33m\u001b[0m\u001b[0m\n\u001b[1;32m---> 10\u001b[1;33m \u001b[0mdividir_numeros\u001b[0m\u001b[1;33m(\u001b[0m\u001b[1;34m\"10\"\u001b[0m\u001b[1;33m,\u001b[0m \u001b[1;36m2\u001b[0m\u001b[1;33m)\u001b[0m\u001b[1;33m\u001b[0m\u001b[0m\n\u001b[0m",
      "\u001b[1;32m<ipython-input-26-0976f95f1946>\u001b[0m in \u001b[0;36mdividir_numeros\u001b[1;34m(x, y)\u001b[0m\n\u001b[0;32m      1\u001b[0m \u001b[1;32mdef\u001b[0m \u001b[0mdividir_numeros\u001b[0m\u001b[1;33m(\u001b[0m\u001b[0mx\u001b[0m\u001b[1;33m,\u001b[0m \u001b[0my\u001b[0m\u001b[1;33m)\u001b[0m\u001b[1;33m:\u001b[0m\u001b[1;33m\u001b[0m\u001b[0m\n\u001b[0;32m      2\u001b[0m     \u001b[1;32mtry\u001b[0m\u001b[1;33m:\u001b[0m\u001b[1;33m\u001b[0m\u001b[0m\n\u001b[1;32m----> 3\u001b[1;33m         \u001b[0mresultado\u001b[0m \u001b[1;33m=\u001b[0m \u001b[0mx\u001b[0m\u001b[1;33m/\u001b[0m\u001b[0my\u001b[0m\u001b[1;33m\u001b[0m\u001b[0m\n\u001b[0m\u001b[0;32m      4\u001b[0m         \u001b[1;32mprint\u001b[0m \u001b[1;34m'El resultado es: %s'\u001b[0m \u001b[1;33m%\u001b[0m \u001b[0mresultado\u001b[0m\u001b[1;33m\u001b[0m\u001b[0m\n\u001b[0;32m      5\u001b[0m     \u001b[1;32mexcept\u001b[0m \u001b[0mZeroDivisionError\u001b[0m\u001b[1;33m:\u001b[0m\u001b[1;33m\u001b[0m\u001b[0m\n",
      "\u001b[1;31mTypeError\u001b[0m: unsupported operand type(s) for /: 'str' and 'int'"
     ]
    }
   ],
   "source": [
    "def dividir_numeros(x, y):\n",
    "    try:\n",
    "        resultado = x/y\n",
    "        print 'El resultado es: %s' % resultado\n",
    "    except ZeroDivisionError:\n",
    "        print 'ERROR: Ha ocurrido un error por mezclar tipos de datos'\n",
    "\n",
    "dividir_numeros(1, 0)\n",
    "dividir_numeros(10, 2)\n",
    "dividir_numeros(\"10\", 2)"
   ]
  },
  {
   "cell_type": "markdown",
   "metadata": {},
   "source": [
    "En esos casos podemos capturar más de una excepción de la siguiente forma:"
   ]
  },
  {
   "cell_type": "code",
   "execution_count": 24,
   "metadata": {
    "collapsed": false
   },
   "outputs": [
    {
     "name": "stdout",
     "output_type": "stream",
     "text": [
      "ERROR: Ha ocurrido un error de división por cero\n",
      "El resultado es: 5\n",
      "ERROR: Ha ocurrido un error por mezclar tipos de datos\n"
     ]
    }
   ],
   "source": [
    "def dividir_numeros(x, y):\n",
    "    try:\n",
    "        resultado = x/y\n",
    "        print 'El resultado es: %s' % resultado\n",
    "    except TypeError:\n",
    "        print 'ERROR: Ha ocurrido un error por mezclar tipos de datos'\n",
    "    except ZeroDivisionError:\n",
    "        print 'ERROR: Ha ocurrido un error de división por cero'\n",
    "    except Exception:\n",
    "        print 'ERROR: Ha ocurrido un error inesperado'\n",
    "\n",
    "dividir_numeros(1, 0)\n",
    "dividir_numeros(10, 2)\n",
    "dividir_numeros(\"10\", 2)"
   ]
  },
  {
   "cell_type": "markdown",
   "metadata": {},
   "source": [
    "Incluso, si queremos que los dos errores muestren el mismo mensaje podemos capturar ambas excepciones juntas:"
   ]
  },
  {
   "cell_type": "code",
   "execution_count": 27,
   "metadata": {
    "collapsed": false
   },
   "outputs": [
    {
     "name": "stdout",
     "output_type": "stream",
     "text": [
      "ERROR: No se puede calcular la división\n",
      "El resultado es: 5\n",
      "ERROR: No se puede calcular la división\n"
     ]
    }
   ],
   "source": [
    "def dividir_numeros(x, y):\n",
    "    try:\n",
    "        resultado = x/y\n",
    "        print 'El resultado es: %s' % resultado\n",
    "    except (ZeroDivisionError, TypeError):\n",
    "        print 'ERROR: No se puede calcular la división'\n",
    "\n",
    "dividir_numeros(1, 0)\n",
    "dividir_numeros(10, 2)\n",
    "dividir_numeros(\"10\", 2)"
   ]
  },
  {
   "cell_type": "markdown",
   "metadata": {},
   "source": [
    "### Jerarquía de excepciones\n",
    "\n",
    "Existe una <a href=\"https://docs.python.org/2/library/exceptions.html\">jerarquía de excepciones</a>, de forma que si se sabe que puede venir un tipo de error, pero no se sabe exactamente qué excepción puede ocurrir siempre se puede poner una excepción de mayor jerarquía:\n",
    "<img src=\"excepciones.png\"/>\n",
    "\n",
    "Por lo que el error de división por cero se puede evitar como:"
   ]
  },
  {
   "cell_type": "code",
   "execution_count": 11,
   "metadata": {
    "collapsed": false
   },
   "outputs": [
    {
     "name": "stdout",
     "output_type": "stream",
     "text": [
      "Ha ocurrido un error de división por cero\n"
     ]
    }
   ],
   "source": [
    "try:\n",
    "    print 1/0\n",
    "except ZeroDivisionError:\n",
    "    print 'Ha ocurrido un error de división por cero'"
   ]
  },
  {
   "cell_type": "markdown",
   "metadata": {},
   "source": [
    "Y también como:"
   ]
  },
  {
   "cell_type": "code",
   "execution_count": 9,
   "metadata": {
    "collapsed": false
   },
   "outputs": [
    {
     "name": "stdout",
     "output_type": "stream",
     "text": [
      "Ha ocurrido un error inesperado\n"
     ]
    }
   ],
   "source": [
    "try:\n",
    "    print 1/0\n",
    "except Exception:\n",
    "    print 'Ha ocurrido un error inesperado'"
   ]
  },
  {
   "cell_type": "markdown",
   "metadata": {},
   "source": [
    "Si bien siempre se puede poner Exception en lugar del tipo de excepción que se espera, no es una buena práctica de programación ya que se pueden esconder errores indeseados. Por ejemplo, un error de sintaxis.\n",
    "Además, cuando se lanza una excepción en el bloque `try`, el interprete comienza a buscar entre todas clausulas `except` una que coincida con el error que se produjo, o que sea de mayor jerarquía. Por lo tanto, es recomendable poner siempre las excepciones más específicas al principio y las más generales al final:\n",
    "\n",
    "```Python\n",
    "def dividir_numeros(x, y):\n",
    "    try:\n",
    "        resultado = x/y\n",
    "        print 'El resultado es: %s' % resultado\n",
    "    except TypeError:\n",
    "        print 'ERROR: Ha ocurrido un error por mezclar tipos de datos'\n",
    "    except ZeroDivisionError:\n",
    "        print 'ERROR: Ha ocurrido un error de división por cero'\n",
    "    except Exception:\n",
    "        print 'ERROR: Ha ocurrido un error inesperado'\n",
    "```\n",
    "\n",
    "Si el error no es capturado por ninguna clausula se propaga de la misma forma que si no se hubiera puesto nada.\n",
    "\n",
    "### Otras clausulas para el manejo de excepciones\n",
    "\n",
    "Además de las clausulas `try` y `except` existen otras relacionadas con las excepciones que nos permiten manejar de mejor manera el flujo del programa:\n",
    "* **else**: se usa para definir un bloque de código que se ejecutará **sólo si no ocurrió ningún error**.\n",
    "* **finally**: se usa para definir un bloque de código que se ejecutará **siempre**, independientemente de si se lanzó una excepción o no."
   ]
  },
  {
   "cell_type": "code",
   "execution_count": 41,
   "metadata": {
    "collapsed": false
   },
   "outputs": [
    {
     "name": "stdout",
     "output_type": "stream",
     "text": [
      "Error: División por cero\n",
      "Este bloque de código se muestra siempre\n",
      "-------------\n",
      "El resultado es 5\n",
      "Este mensaje se mostrará sólo si no ocurre ningún error\n",
      "Este bloque de código se muestra siempre\n"
     ]
    }
   ],
   "source": [
    "def dividir_numeros(x, y):\n",
    "    try:\n",
    "        resultado = x/y\n",
    "        print 'El resultado es {}'.format(resultado)\n",
    "    except ZeroDivisionError:\n",
    "        print 'Error: División por cero'\n",
    "    else:\n",
    "        print 'Este mensaje se mostrará sólo si no ocurre ningún error'\n",
    "    finally: \n",
    "        print 'Este bloque de código se muestra siempre'\n",
    "\n",
    "dividir_numeros(1, 0)\n",
    "print '-------------'\n",
    "dividir_numeros(10, 2)"
   ]
  },
  {
   "cell_type": "markdown",
   "metadata": {},
   "source": [
    "Pero entonces, ¿por qué no poner ese código dentro del `try-except`?. Porque tal vez no queremos capturar con las clausulas `except` lo que se ejecute en ese bloque de código:"
   ]
  },
  {
   "cell_type": "code",
   "execution_count": 43,
   "metadata": {
    "collapsed": false
   },
   "outputs": [
    {
     "name": "stdout",
     "output_type": "stream",
     "text": [
      "Error: División por cero\n",
      "Este bloque de código se muestra siempre\n",
      "-------------\n",
      "El resultado es 5\n",
      "Ahora hago que ocurra una excepción\n",
      "Este bloque de código se muestra siempre\n"
     ]
    },
    {
     "ename": "ZeroDivisionError",
     "evalue": "integer division or modulo by zero",
     "output_type": "error",
     "traceback": [
      "\u001b[1;31m---------------------------------------------------------------------------\u001b[0m",
      "\u001b[1;31mZeroDivisionError\u001b[0m                         Traceback (most recent call last)",
      "\u001b[1;32m<ipython-input-43-a9e50d1c2355>\u001b[0m in \u001b[0;36m<module>\u001b[1;34m()\u001b[0m\n\u001b[0;32m     13\u001b[0m \u001b[0mdividir_numeros\u001b[0m\u001b[1;33m(\u001b[0m\u001b[1;36m1\u001b[0m\u001b[1;33m,\u001b[0m \u001b[1;36m0\u001b[0m\u001b[1;33m)\u001b[0m\u001b[1;33m\u001b[0m\u001b[0m\n\u001b[0;32m     14\u001b[0m \u001b[1;32mprint\u001b[0m \u001b[1;34m'-------------'\u001b[0m\u001b[1;33m\u001b[0m\u001b[0m\n\u001b[1;32m---> 15\u001b[1;33m \u001b[0mdividir_numeros\u001b[0m\u001b[1;33m(\u001b[0m\u001b[1;36m10\u001b[0m\u001b[1;33m,\u001b[0m \u001b[1;36m2\u001b[0m\u001b[1;33m)\u001b[0m\u001b[1;33m\u001b[0m\u001b[0m\n\u001b[0m",
      "\u001b[1;32m<ipython-input-43-a9e50d1c2355>\u001b[0m in \u001b[0;36mdividir_numeros\u001b[1;34m(x, y)\u001b[0m\n\u001b[0;32m      7\u001b[0m     \u001b[1;32melse\u001b[0m\u001b[1;33m:\u001b[0m\u001b[1;33m\u001b[0m\u001b[0m\n\u001b[0;32m      8\u001b[0m         \u001b[1;32mprint\u001b[0m \u001b[1;34m'Ahora hago que ocurra una excepción'\u001b[0m\u001b[1;33m\u001b[0m\u001b[0m\n\u001b[1;32m----> 9\u001b[1;33m         \u001b[1;32mprint\u001b[0m \u001b[1;36m1\u001b[0m\u001b[1;33m/\u001b[0m\u001b[1;36m0\u001b[0m\u001b[1;33m\u001b[0m\u001b[0m\n\u001b[0m\u001b[0;32m     10\u001b[0m     \u001b[1;32mfinally\u001b[0m\u001b[1;33m:\u001b[0m\u001b[1;33m\u001b[0m\u001b[0m\n\u001b[0;32m     11\u001b[0m         \u001b[1;32mprint\u001b[0m \u001b[1;34m'Este bloque de código se muestra siempre'\u001b[0m\u001b[1;33m\u001b[0m\u001b[0m\n",
      "\u001b[1;31mZeroDivisionError\u001b[0m: integer division or modulo by zero"
     ]
    }
   ],
   "source": [
    "def dividir_numeros(x, y):\n",
    "    try:\n",
    "        resultado = x/y\n",
    "        print 'El resultado es {}'.format(resultado)\n",
    "    except ZeroDivisionError:\n",
    "        print 'Error: División por cero'\n",
    "    else:\n",
    "        print 'Ahora hago que ocurra una excepción'\n",
    "        print 1/0\n",
    "    finally: \n",
    "        print 'Este bloque de código se muestra siempre'\n",
    "\n",
    "dividir_numeros(1, 0)\n",
    "print '-------------'\n",
    "dividir_numeros(10, 2)"
   ]
  },
  {
   "cell_type": "markdown",
   "metadata": {},
   "source": [
    "### Lanzar excepciones\n",
    "\n",
    "Hasta ahora vimos cómo capturar un error y trabajar con él sin que el programa termine abruptamente, pero en algunos casos somos nosotros mismos quienes van a querer lanzar una excepción. Y para eso, usaremos la palabra reservada `raise`:"
   ]
  },
  {
   "cell_type": "code",
   "execution_count": 52,
   "metadata": {
    "collapsed": false
   },
   "outputs": [
    {
     "name": "stdout",
     "output_type": "stream",
     "text": [
      "ERROR: ha ocurrido un error del tipo Exception\n",
      "----------\n"
     ]
    },
    {
     "ename": "Exception",
     "evalue": "Error de división por cero",
     "output_type": "error",
     "traceback": [
      "\u001b[1;31m---------------------------------------------------------------------------\u001b[0m",
      "\u001b[1;31mException\u001b[0m                                 Traceback (most recent call last)",
      "\u001b[1;32m<ipython-input-52-e8d834f7341d>\u001b[0m in \u001b[0;36m<module>\u001b[1;34m()\u001b[0m\n\u001b[0;32m     14\u001b[0m \u001b[1;33m\u001b[0m\u001b[0m\n\u001b[0;32m     15\u001b[0m \u001b[1;32mprint\u001b[0m \u001b[1;34m'----------'\u001b[0m\u001b[1;33m\u001b[0m\u001b[0m\n\u001b[1;32m---> 16\u001b[1;33m \u001b[0mdividir_numeros\u001b[0m\u001b[1;33m(\u001b[0m\u001b[1;36m1\u001b[0m\u001b[1;33m,\u001b[0m \u001b[1;36m0\u001b[0m\u001b[1;33m)\u001b[0m\u001b[1;33m\u001b[0m\u001b[0m\n\u001b[0m",
      "\u001b[1;32m<ipython-input-52-e8d834f7341d>\u001b[0m in \u001b[0;36mdividir_numeros\u001b[1;34m(x, y)\u001b[0m\n\u001b[0;32m      1\u001b[0m \u001b[1;32mdef\u001b[0m \u001b[0mdividir_numeros\u001b[0m\u001b[1;33m(\u001b[0m\u001b[0mx\u001b[0m\u001b[1;33m,\u001b[0m \u001b[0my\u001b[0m\u001b[1;33m)\u001b[0m\u001b[1;33m:\u001b[0m\u001b[1;33m\u001b[0m\u001b[0m\n\u001b[0;32m      2\u001b[0m     \u001b[1;32mif\u001b[0m \u001b[0my\u001b[0m \u001b[1;33m==\u001b[0m \u001b[1;36m0\u001b[0m\u001b[1;33m:\u001b[0m\u001b[1;33m\u001b[0m\u001b[0m\n\u001b[1;32m----> 3\u001b[1;33m         \u001b[1;32mraise\u001b[0m \u001b[0mException\u001b[0m\u001b[1;33m(\u001b[0m\u001b[1;34m'Error de división por cero'\u001b[0m\u001b[1;33m)\u001b[0m\u001b[1;33m\u001b[0m\u001b[0m\n\u001b[0m\u001b[0;32m      4\u001b[0m \u001b[1;33m\u001b[0m\u001b[0m\n\u001b[0;32m      5\u001b[0m     \u001b[0mresultado\u001b[0m \u001b[1;33m=\u001b[0m \u001b[0mx\u001b[0m\u001b[1;33m/\u001b[0m\u001b[0my\u001b[0m\u001b[1;33m\u001b[0m\u001b[0m\n",
      "\u001b[1;31mException\u001b[0m: Error de división por cero"
     ]
    }
   ],
   "source": [
    "def dividir_numeros(x, y):\n",
    "    if y == 0:\n",
    "        raise Exception('Error de división por cero')\n",
    "    \n",
    "    resultado = x/y\n",
    "    print 'El resultado es {0}'.format(resultado)\n",
    "\n",
    "try:\n",
    "    dividir_numeros(1, 0)\n",
    "except ZeroDivisionError as e:\n",
    "    print 'ERROR: División por cero'\n",
    "except Exception as e:\n",
    "    print 'ERROR: ha ocurrido un error del tipo Exception'\n",
    "\n",
    "print '----------'\n",
    "dividir_numeros(1, 0)\n"
   ]
  },
  {
   "cell_type": "markdown",
   "metadata": {},
   "source": [
    "### Crear excepciones\n",
    "\n",
    "Pero así como podemos usar las excepciones estándares, también podemos crear nuestras propias excepciones:\n",
    "\n",
    "```Python\n",
    "\n",
    "class MiPropiaExcepcion(Exception):\n",
    "    \n",
    "    def __str__(self):\n",
    "        return 'Mensaje del error'\n",
    "```\n",
    "\n",
    "Por ejemplo:"
   ]
  },
  {
   "cell_type": "code",
   "execution_count": 54,
   "metadata": {
    "collapsed": false
   },
   "outputs": [
    {
     "name": "stdout",
     "output_type": "stream",
     "text": [
      "No se puede dividir por 2\n"
     ]
    },
    {
     "ename": "ExcepcionDeDivisionPor2",
     "evalue": "ERROR: No se puede dividir por dos",
     "output_type": "error",
     "traceback": [
      "\u001b[1;31m---------------------------------------------------------------------------\u001b[0m",
      "\u001b[1;31mExcepcionDeDivisionPor2\u001b[0m                   Traceback (most recent call last)",
      "\u001b[1;32m<ipython-input-54-f793162bfdde>\u001b[0m in \u001b[0;36m<module>\u001b[1;34m()\u001b[0m\n\u001b[0;32m     16\u001b[0m     \u001b[1;32mprint\u001b[0m \u001b[1;34m'No se puede dividir por 2'\u001b[0m\u001b[1;33m\u001b[0m\u001b[0m\n\u001b[0;32m     17\u001b[0m \u001b[1;33m\u001b[0m\u001b[0m\n\u001b[1;32m---> 18\u001b[1;33m \u001b[0mdividir_numeros\u001b[0m\u001b[1;33m(\u001b[0m\u001b[1;36m1\u001b[0m\u001b[1;33m,\u001b[0m \u001b[1;36m2\u001b[0m\u001b[1;33m)\u001b[0m\u001b[1;33m\u001b[0m\u001b[0m\n\u001b[0m",
      "\u001b[1;32m<ipython-input-54-f793162bfdde>\u001b[0m in \u001b[0;36mdividir_numeros\u001b[1;34m(x, y)\u001b[0m\n\u001b[0;32m      7\u001b[0m \u001b[1;32mdef\u001b[0m \u001b[0mdividir_numeros\u001b[0m\u001b[1;33m(\u001b[0m\u001b[0mx\u001b[0m\u001b[1;33m,\u001b[0m \u001b[0my\u001b[0m\u001b[1;33m)\u001b[0m\u001b[1;33m:\u001b[0m\u001b[1;33m\u001b[0m\u001b[0m\n\u001b[0;32m      8\u001b[0m     \u001b[1;32mif\u001b[0m \u001b[0my\u001b[0m \u001b[1;33m==\u001b[0m \u001b[1;36m2\u001b[0m\u001b[1;33m:\u001b[0m\u001b[1;33m\u001b[0m\u001b[0m\n\u001b[1;32m----> 9\u001b[1;33m         \u001b[1;32mraise\u001b[0m \u001b[0mExcepcionDeDivisionPor2\u001b[0m\u001b[1;33m(\u001b[0m\u001b[1;33m)\u001b[0m\u001b[1;33m\u001b[0m\u001b[0m\n\u001b[0m\u001b[0;32m     10\u001b[0m \u001b[1;33m\u001b[0m\u001b[0m\n\u001b[0;32m     11\u001b[0m     \u001b[0mresultado\u001b[0m \u001b[1;33m=\u001b[0m \u001b[0mx\u001b[0m\u001b[1;33m/\u001b[0m\u001b[0my\u001b[0m\u001b[1;33m\u001b[0m\u001b[0m\n",
      "\u001b[1;31mExcepcionDeDivisionPor2\u001b[0m: ERROR: No se puede dividir por dos"
     ]
    }
   ],
   "source": [
    "class ExcepcionDeDivisionPor2(Exception):\n",
    "    \n",
    "    def __str__(self):\n",
    "        return 'ERROR: No se puede dividir por dos'\n",
    "    \n",
    "\n",
    "def dividir_numeros(x, y):\n",
    "    if y == 2:\n",
    "        raise ExcepcionDeDivisionPor2()\n",
    "    \n",
    "    resultado = x/y\n",
    "\n",
    "try:\n",
    "    dividir_numeros(1, 2)\n",
    "except ExcepcionDeDivisionPor2:\n",
    "    print 'No se puede dividir por 2'\n",
    "\n",
    "dividir_numeros(1, 2)"
   ]
  },
  {
   "cell_type": "markdown",
   "metadata": {},
   "source": [
    "Para más información, ingresar a  https://docs.python.org/2/tutorial/errors.html"
   ]
  },
  {
   "cell_type": "markdown",
   "metadata": {
    "collapsed": true
   },
   "source": [
    "# Ejercicios\n",
    "\n",
    "1. Se leen dos listas A y B, de N y M elementos respectivamente. Construir un algoritmo que halle las listas unión e intersección de A y B. Previamente habrá que ordenarlos.\n",
    "2. Escribir una función que reciba una lista desordenada y un elemento, que:\n",
    "  1. Busque todos los elementos coincidan con el pasado por parámetro y devuelva la cantidad de coincidencias encontradas.\n",
    "  2. Busque la primera coincidencia del elemento en la lista y devuelva su posición.\n",
    "3. Escribir una función que reciba una lista de números no ordenada, que:\n",
    "  1. Devuelva el valor máximo.\n",
    "  2. Devuelva una tupla que incluya el valor máximo y su posición.\n",
    "  3. ¿Qué sucede si los elementos son cadenas de caracteres? <br>\n",
    "  Nota: no utilizar lista.sort()\n",
    "4. Se cuenta con una lista ordenada de productos, en la que uno consiste en una tupla de (identificador, descripción, precio), y una lista de los productos a facturar, en la que cada uno consiste en una tupla de (identificador, cantidad). <br>\n",
    "Se desea generar una factura que incluya la cantidad, la descripción, el precio unitario y el precio total de cada producto comprado, y al final imprima el total general. <br>\n",
    "Escribir una función que reciba ambas listas e imprima por pantalla la factura solicitada.\n",
    "  "
   ]
  },
  {
   "cell_type": "code",
   "execution_count": null,
   "metadata": {
    "collapsed": true
   },
   "outputs": [],
   "source": []
  }
 ],
 "metadata": {
  "kernelspec": {
   "display_name": "Python 2",
   "language": "python",
   "name": "python2"
  },
  "language_info": {
   "codemirror_mode": {
    "name": "ipython",
    "version": 2
   },
   "file_extension": ".py",
   "mimetype": "text/x-python",
   "name": "python",
   "nbconvert_exporter": "python",
   "pygments_lexer": "ipython2",
   "version": "2.7.10"
  }
 },
 "nbformat": 4,
 "nbformat_minor": 0
}
