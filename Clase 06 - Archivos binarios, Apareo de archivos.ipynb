{
 "cells": [
  {
   "cell_type": "markdown",
   "metadata": {},
   "source": [
    "\n",
    "03/11\n",
    "Archivos binarios. Pickles.\n",
    "Apareo de archivos secuenciales.\n",
    "CLASE DE LABORATORIO \n",
    "(Gonzalo)\n"
   ]
  },
  {
   "cell_type": "markdown",
   "metadata": {},
   "source": [
    "## with\n",
    "\n",
    "Por lo general, cuando se trabaja con un archivo se hacen tres operaciones seguidas:\n",
    "1. Abrir el archivo\n",
    "2. Procesar el archivo\n",
    "3. Cerrar el archivo\n",
    "\n",
    "Y hay que tener cuidado, porque si ocurre algún error con el archivo en algún punto de su procesamiento es necesario encargarse de cerrarlo, antes de que la excepción siga subiendo niveles. Para trabajar con los archivos de una forma más simple es que se agregó la sentencia **with**:"
   ]
  },
  {
   "cell_type": "code",
   "execution_count": null,
   "metadata": {
    "collapsed": false
   },
   "outputs": [],
   "source": [
    "with open('ejemplo.txt') as archivo:\n",
    "    for linea in archivo:\n",
    "        longitud = len(linea[:-1])\n",
    "        print '%2d: %s' % (longitud, linea[:-1])"
   ]
  },
  {
   "cell_type": "markdown",
   "metadata": {},
   "source": [
    "Si se fijan, no hay ningún close en esa porción de código, pero sin embargo al salir del bloque que encierra el with, el archivo se encuentra cerrado sin importar si salió exitosamente o con una excepción"
   ]
  },
  {
   "cell_type": "markdown",
   "metadata": {},
   "source": [
    "## Pickles\n",
    "\n",
    "Los *pickles* son una forma de guardar estructuras de datos complejas y recuperarlas fácilmente, sin necesidad de convertirlas a texto y luego parsearlas:\n",
    "\n",
    "### Ejemplo 1: Guardar de a un elemento\n"
   ]
  },
  {
   "cell_type": "code",
   "execution_count": null,
   "metadata": {
    "collapsed": true
   },
   "outputs": [],
   "source": [
    "import pickle  # Importo la biblioteca necesaria\n",
    "\n",
    "# Creo la variable archivo\n",
    "with open('ejemplo.pkl', 'wb') as archivo:\n",
    "    pkl = pickle.Pickler(archivo)  # Creo mi punto de acceso a los datos a partir del archivo\n",
    "\n",
    "    lista1 = [1, 2, 3]\n",
    "    lista2 = [4, 5]\n",
    "    diccionario = {'campo1': 1, 'campo2': 'dos'}\n",
    "\n",
    "    pkl.dump(lista1)         # Guardo la lista1 de [1, 2, 3]\n",
    "    pkl.dump(None)           # Guardo el valor None\n",
    "    pkl.dump(lista2)\n",
    "    pkl.dump('Hola mundo')\n",
    "    pkl.dump(diccionario)\n",
    "    pkl.dump(1)"
   ]
  },
  {
   "cell_type": "markdown",
   "metadata": {},
   "source": [
    "Para leer de un archivo pickle no puedo usar el método readline que usa la estructura for, por lo que no me queda otra que siempre intentar leer y cuando lance una excepción del tipo *EOFError* dejar de hacerlo."
   ]
  },
  {
   "cell_type": "code",
   "execution_count": null,
   "metadata": {
    "collapsed": false
   },
   "outputs": [],
   "source": [
    "with open('ejemplo.pkl', 'rb') as archivo:\n",
    "    seguir_leyendo = True\n",
    "    while seguir_leyendo:\n",
    "        try:\n",
    "            data = pickle.load(archivo)  # Leo del archivo un elemento\n",
    "        except EOFError:\n",
    "            seguir_leyendo = False\n",
    "        else:\n",
    "            print '### Esta línea no es del archivo ###'\n",
    "            print data\n"
   ]
  },
  {
   "cell_type": "markdown",
   "metadata": {},
   "source": [
    "### Ejemplo 2: Guardo una lista de elementos\n",
    "\n",
    "Así como guardo de a un elemento por vez, también puedo guardar una lista que tenga todos los elementos que tenga en memoria:"
   ]
  },
  {
   "cell_type": "code",
   "execution_count": null,
   "metadata": {
    "collapsed": false
   },
   "outputs": [],
   "source": [
    "lista = [  # Creo la lista que quiero guardar\n",
    "    {'usuario': 'usuario1', 'puntaje': 5}, \n",
    "    {'usuario': 'usuario2', 'puntaje': 3}, \n",
    "    {'usuario': 'usuario3', 'puntaje': 1}, \n",
    "]\n",
    "\n",
    "# Guardo la lista en el archivo\n",
    "with open('ejemplo_2.pkl', 'wb') as archivo:\n",
    "    pkl = pickle.Pickler(archivo)\n",
    "    pkl.dump(lista)\n",
    "\n",
    "# Leo del archivo\n",
    "with open('ejemplo_2.pkl', 'rb') as archivo:\n",
    "    data = pickle.load(archivo)\n",
    "    print data  # y muestro su contenido"
   ]
  },
  {
   "cell_type": "code",
   "execution_count": null,
   "metadata": {
    "collapsed": true
   },
   "outputs": [],
   "source": []
  }
 ],
 "metadata": {
  "kernelspec": {
   "display_name": "Python 2",
   "language": "python",
   "name": "python2"
  },
  "language_info": {
   "codemirror_mode": {
    "name": "ipython",
    "version": 2
   },
   "file_extension": ".py",
   "mimetype": "text/x-python",
   "name": "python",
   "nbconvert_exporter": "python",
   "pygments_lexer": "ipython2",
   "version": "2.7.10"
  }
 },
 "nbformat": 4,
 "nbformat_minor": 0
}
