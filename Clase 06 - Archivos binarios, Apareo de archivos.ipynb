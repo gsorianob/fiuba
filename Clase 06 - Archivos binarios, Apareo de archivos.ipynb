{
 "cells": [
  {
   "cell_type": "markdown",
   "metadata": {},
   "source": [
    "<!--\n",
    "03/11\n",
    "Archivos binarios. Pickles.\n",
    "Apareo de archivos secuenciales.\n",
    "CLASE DE LABORATORIO \n",
    "(Gonzalo)\n",
    "-->"
   ]
  },
  {
   "cell_type": "markdown",
   "metadata": {},
   "source": [
    "# Archivos\n",
    "\n",
    "Por lo general, cuando se trabaja con un archivo se hacen tres operaciones seguidas:\n",
    "\n",
    "1. Abrir el archivo\n",
    "2. Procesar el archivo\n",
    "3. Cerrar el archivo\n",
    "\n",
    "Y hay que tener cuidado, porque si ocurre algún error con el archivo en algún punto de su procesamiento es necesario encargarse de cerrarlo, antes de que la excepción siga subiendo niveles.\n",
    "\n",
    "## Trabajando con archivo de una forma segura\n",
    "\n",
    "Para trabajar con los archivos de una forma más simple es que se agregó la sentencia **with** que define un contexto dentro del cual nos asegura que, ocurra una excepción o no, el archivo se cerrará al momento de salir de ese contexto:"
   ]
  },
  {
   "cell_type": "code",
   "execution_count": 3,
   "metadata": {
    "collapsed": false
   },
   "outputs": [
    {
     "name": "stdout",
     "output_type": "stream",
     "text": [
      "¿El archivo se encuentra abierto?: False\n",
      "\n",
      "70: Python was created in the early 1990s by Guido van Rossum at Stichting\n",
      "68: Mathematisch Centrum (CWI, see http://www.cwi.nl) in the Netherlands\n",
      "64: as a successor of a language called ABC.  Guido remains Python's\n",
      "70: principal author, although it includes many contributions from others.\n",
      " 0: \n",
      "66: In 1995, Guido continued his work on Python at the Corporation for\n",
      "70: National Research Initiatives (CNRI, see http://www.cnri.reston.va.us)\n",
      "61: in Reston, Virginia where he released several versions of the\n",
      " 9: software.\n",
      " 0: \n",
      "64: In May 2000, Guido and the Python core development team moved to\n",
      "70: BeOpen.com to form the BeOpen PythonLabs team.  In October of the same\n",
      "62: year, the PythonLabs team moved to Digital Creations (now Zope\n",
      "68: Corporation, see http://www.zope.com).  In 2001, the Python Software\n",
      "62: Foundation (PSF, see http://www.python.org/psf/) was formed, a\n",
      "66: non-profit organization created specifically to own Python-related\n",
      "66: Intellectual Property.  Zope Corporation is a sponsoring member of\n",
      " 8: the PSF.\n",
      " 0: \n",
      "70: All Python releases are Open Source (see http://www.opensource.org for\n",
      "69: the Open Source Definition).  Historically, most, but not all, Python\n",
      "39: releases have also been GPL-compatible.\n",
      "\n",
      "¿El archivo se encuentra abierto?: True\n"
     ]
    }
   ],
   "source": [
    "with open('ejemplo.txt') as archivo:\n",
    "    print '¿El archivo se encuentra abierto?: {}'.format(archivo.closed)\n",
    "    print\n",
    "    for linea in archivo:\n",
    "        longitud = len(linea[:-1])\n",
    "        print '%2d: %s' % (longitud, linea[:-1])\n",
    "\n",
    "print\n",
    "print '¿El archivo se encuentra abierto?: {}'.format(archivo.closed)"
   ]
  },
  {
   "cell_type": "markdown",
   "metadata": {},
   "source": [
    "Si bien no cerramos explícitamente el archivo usando la función close, al salir del bloque de código que encierra el with el archivo se encontrará cerrado."
   ]
  },
  {
   "cell_type": "markdown",
   "metadata": {},
   "source": [
    "## Pickles\n",
    "\n",
    "Los [*pickles*](https://docs.python.org/2/library/pickle.html#module-pickle) son una forma de guardar estructuras de datos complejas y recuperarlas fácilmente, sin necesidad de convertirlas a texto y luego parsearlas:\n",
    "\n",
    "### Ejemplo 1: Guardar de a un elemento\n",
    "\n",
    "Se puede usar los pickles como se hacía con los viejos archivos de Pascal, donde se guardaba un registro detrás del otro; pero con la diferencia de que en este caso no es necesario que todos los registros sean del mismo tipo:"
   ]
  },
  {
   "cell_type": "code",
   "execution_count": 4,
   "metadata": {
    "collapsed": true
   },
   "outputs": [],
   "source": [
    "import pickle  # Importo la biblioteca necesaria\n",
    "\n",
    "# Creo la variable archivo\n",
    "with open('ejemplo.pkl', 'wb') as archivo:\n",
    "    pkl = pickle.Pickler(archivo)  # Creo mi punto de acceso a los datos a partir del archivo\n",
    "\n",
    "    lista1 = [1, 2, 3]\n",
    "    lista2 = [4, 5]\n",
    "    diccionario = {'campo1': 1, 'campo2': 'dos'}\n",
    "\n",
    "    pkl.dump(lista1)         # Guardo la lista1 de [1, 2, 3]\n",
    "    pkl.dump(None)           # Guardo el valor None\n",
    "    pkl.dump(lista2)\n",
    "    pkl.dump('Hola mundo')\n",
    "    pkl.dump(diccionario)\n",
    "    pkl.dump(1)"
   ]
  },
  {
   "cell_type": "markdown",
   "metadata": {},
   "source": [
    "Para leer de un archivo pickle no puedo usar el método readline que usa la estructura for, por lo que no me queda otra que siempre intentar leer hasta que lance una excepción del tipo *EOFError*:"
   ]
  },
  {
   "cell_type": "code",
   "execution_count": 7,
   "metadata": {
    "collapsed": false
   },
   "outputs": [
    {
     "name": "stdout",
     "output_type": "stream",
     "text": [
      "[1, 2, 3]\n",
      "None\n",
      "[4, 5]\n",
      "Hola mundo\n",
      "{'campo1': 1, 'campo2': 'dos'}\n",
      "1\n"
     ]
    }
   ],
   "source": [
    "with open('ejemplo.pkl', 'rb') as archivo:\n",
    "    seguir_leyendo = True\n",
    "    while seguir_leyendo:\n",
    "        try:\n",
    "            data = pickle.load(archivo)  # Leo del archivo un elemento\n",
    "            print data\n",
    "        except EOFError:\n",
    "            seguir_leyendo = False\n"
   ]
  },
  {
   "cell_type": "markdown",
   "metadata": {},
   "source": [
    "### Ejemplo 2: Guardo una lista de elementos\n",
    "\n",
    "Así como en el ejemplo anterior guardamos de a un elemento por vez, también podríamos guardar una lista completa que tenga todos los elementos en memoria. De ésta forma, los archivos podrían usarse para cargar los datos al comenzar el programa y guardarlos todos juntos antes de terminar. <br>\n",
    "Suponiendo que estoy desarrollando un juego en que no van a haber muchos jugadores compitiendo entre si, podría tener una lista con los puntajes y hacer:"
   ]
  },
  {
   "cell_type": "code",
   "execution_count": 13,
   "metadata": {
    "collapsed": false
   },
   "outputs": [],
   "source": [
    "lista = [  # Creo la lista que quiero guardar\n",
    "    {'usuario': 'csanchez', 'puntaje': 5}, \n",
    "    {'usuario': 'pperez', 'puntaje': 3}, \n",
    "    {'usuario': 'jromero', 'puntaje': 1}, \n",
    "]\n",
    "\n",
    "# Guardo la lista en el archiv\n",
    "with open('ejemplo_2.pkl', 'wb') as archivo:\n",
    "    pkl = pickle.Pickler(archivo)\n",
    "    pkl.dump(lista)"
   ]
  },
  {
   "cell_type": "markdown",
   "metadata": {},
   "source": [
    "Y si ahora quiero sumarle 3 puntos a un usuario en particular tendría que:\n",
    "\n",
    "1. Leer todo el archivo en una lista\n",
    "2. Buscar el usuario y actualizarle los puntos\n",
    "3. Guardar toda la lista en el archivo\n"
   ]
  },
  {
   "cell_type": "code",
   "execution_count": 14,
   "metadata": {
    "collapsed": false
   },
   "outputs": [
    {
     "name": "stdout",
     "output_type": "stream",
     "text": [
      "La lista antes de hacer el cambio es:\n",
      "[{'puntaje': 5, 'usuario': 'csanchez'},\n",
      " {'puntaje': 3, 'usuario': 'pperez'},\n",
      " {'puntaje': 1, 'usuario': 'jromero'}]\n",
      "La lista una vez hecho el cambio es:\n",
      "[{'puntaje': 8, 'usuario': 'csanchez'},\n",
      " {'puntaje': 3, 'usuario': 'pperez'},\n",
      " {'puntaje': 1, 'usuario': 'jromero'}]\n"
     ]
    }
   ],
   "source": [
    "from pprint import pprint\n",
    "\n",
    "# Leo del archivo\n",
    "with open('ejemplo_2.pkl', 'rb') as archivo:\n",
    "    lista_puntajes = pickle.load(archivo)\n",
    "\n",
    "\n",
    "# Actualizo el puntaje\n",
    "print 'La lista antes de hacer el cambio es:'\n",
    "pprint(lista_puntajes)\n",
    "\n",
    "pos =  next(\n",
    "    index \n",
    "    for (index, d) in enumerate(lista_puntajes) \n",
    "    if d[\"usuario\"] == \"csanchez\")\n",
    "\n",
    "lista_puntajes[pos]['puntaje'] += 3\n",
    "\n",
    "print 'La lista una vez hecho el cambio es:'\n",
    "pprint(lista_puntajes)\n",
    "\n",
    "# Guardo la lista en el archiv\n",
    "with open('ejemplo_2.pkl', 'wb') as archivo:\n",
    "    pkl = pickle.Pickler(archivo)\n",
    "    pkl.dump(lista_puntajes)"
   ]
  },
  {
   "cell_type": "markdown",
   "metadata": {},
   "source": [
    "Si bien es muy práctica esta alternativa, tiene el gran inconveniente de no hacer un uso eficiente de la memoria. <br>\n",
    "Si el archivo contiene millones de usuarios, los estaríamos levantando todos a memoria, con el gran costo que tiene eso (no sólo en espacio, sino también en tiempo) con el único objetivo de sumarle 3 puntos a un único usuario. Y una vez que actualizamos el puntaje de ese usuario, tendríamos que volver a guardar todo el archivo en el disco."
   ]
  },
  {
   "cell_type": "markdown",
   "metadata": {},
   "source": [
    "## Abstrayendonos del uso de los pickles\n",
    "\n",
    "Si bien el uso de los pickles puede resultar muy útil, la forma de leer la información guardada en ellos no suele ser muy cómoda. Por lo que podríamos implementar en un archivo `utils.py` las siguientes dos funciones para abstraernos un poco de cómo se accede a los datos:\n",
    "\n",
    "```Python\n",
    "def guardar_en_archivo(archivo, contenido):\n",
    "    \"\"\"Guarda lo que le pasen como segundo parámetro en el archivo \n",
    "    que recibe como primer parámetro.\n",
    "    El parámetro llamado archivo tiene que estar abieto en modo \n",
    "    binario y para escritura (wb)\n",
    "    \"\"\"\n",
    "    pickler = pickle.Pickler(archivo)\n",
    "    pickler.dump(contenido)\n",
    "\n",
    "\n",
    "def leer_desde_archivo(archivo):\n",
    "    \"\"\"Lee del archivo archivo un registro y lo retorna junto con una\n",
    "    variable booleana que indica si llegó al fin de archivo o no.\n",
    "    El parámetro llamado archivo tiene que estar abieto en modo \n",
    "    binario y para lectura (rb).\n",
    "    Si se intenta leer más allá del fin de archivo, data valdrá None\n",
    "    y fin_de_archivo será True. En cualquier otro caso fin_de_archivo\n",
    "    será False.\n",
    "    \"\"\"\n",
    "    try:\n",
    "        data = pickle.load(archivo)\n",
    "        fin_de_archivo = False\n",
    "    except EOFError:\n",
    "        data = None\n",
    "        fin_de_archivo = True\n",
    "    return data, fin_de_archivo\n",
    "\n",
    "```\n",
    "\n",
    "En este caso, se podría considerar que la función `leer_desde_archivo` funciona similar a cómo lo hacen los archivos con un registro centinella. <br>\n",
    "Por lo que podríamos usar:"
   ]
  },
  {
   "cell_type": "code",
   "execution_count": 28,
   "metadata": {
    "collapsed": false
   },
   "outputs": [
    {
     "name": "stdout",
     "output_type": "stream",
     "text": [
      "Creo el archivo vacío usando el modo \"wb\"\n",
      "Si tenía algo, ya lo borre...\n",
      "Guardando el alumno {'nombre': 'Sanchez, Lucas', 'grupo': 1, 'nota': 8, 'padron': 90431} en el archivo\n"
     ]
    },
    {
     "ename": "NameError",
     "evalue": "global name 'pickle' is not defined",
     "output_type": "error",
     "traceback": [
      "\u001b[1;31m---------------------------------------------------------------------------\u001b[0m",
      "\u001b[1;31mNameError\u001b[0m                                 Traceback (most recent call last)",
      "\u001b[1;32m<ipython-input-28-539fc7bbe83d>\u001b[0m in \u001b[0;36m<module>\u001b[1;34m()\u001b[0m\n\u001b[0;32m     19\u001b[0m     \u001b[1;32mfor\u001b[0m \u001b[0malumno\u001b[0m \u001b[1;32min\u001b[0m \u001b[0mcurso\u001b[0m\u001b[1;33m:\u001b[0m\u001b[1;33m\u001b[0m\u001b[0m\n\u001b[0;32m     20\u001b[0m         \u001b[1;32mprint\u001b[0m \u001b[1;34m'Guardando el alumno {} en el archivo'\u001b[0m\u001b[1;33m.\u001b[0m\u001b[0mformat\u001b[0m\u001b[1;33m(\u001b[0m\u001b[0malumno\u001b[0m\u001b[1;33m)\u001b[0m\u001b[1;33m\u001b[0m\u001b[0m\n\u001b[1;32m---> 21\u001b[1;33m         \u001b[0mutils\u001b[0m\u001b[1;33m.\u001b[0m\u001b[0mguardar_en_archivo\u001b[0m\u001b[1;33m(\u001b[0m\u001b[0marchivo\u001b[0m\u001b[1;33m,\u001b[0m \u001b[0malumno\u001b[0m\u001b[1;33m)\u001b[0m\u001b[1;33m\u001b[0m\u001b[0m\n\u001b[0m\u001b[0;32m     22\u001b[0m \u001b[1;33m\u001b[0m\u001b[0m\n\u001b[0;32m     23\u001b[0m \u001b[1;32mprint\u001b[0m\u001b[1;33m\u001b[0m\u001b[0m\n",
      "\u001b[1;32m/home/gsoriano/Dropbox/Facultad/Algo1/2015-02C/python/utils.pyc\u001b[0m in \u001b[0;36mguardar_en_archivo\u001b[1;34m(archivo, contenido)\u001b[0m\n\u001b[0;32m      7\u001b[0m     \u001b[0mEl\u001b[0m \u001b[0mpar\u001b[0m\u001b[0;31má\u001b[0m\u001b[0mmetro\u001b[0m \u001b[0mllamado\u001b[0m \u001b[0marchivo\u001b[0m \u001b[0mtiene\u001b[0m \u001b[0mque\u001b[0m \u001b[0mestar\u001b[0m \u001b[0mabieto\u001b[0m \u001b[0men\u001b[0m \u001b[0mmodo\u001b[0m\u001b[1;33m\u001b[0m\u001b[0m\n\u001b[0;32m      8\u001b[0m     \u001b[0mbinario\u001b[0m \u001b[0my\u001b[0m \u001b[0mpara\u001b[0m \u001b[0mescritura\u001b[0m \u001b[1;33m(\u001b[0m\u001b[0mwb\u001b[0m\u001b[1;33m)\u001b[0m\u001b[1;33m\u001b[0m\u001b[0m\n\u001b[1;32m----> 9\u001b[1;33m     \"\"\"\n\u001b[0m\u001b[0;32m     10\u001b[0m     \u001b[0mpickler\u001b[0m \u001b[1;33m=\u001b[0m \u001b[0mpickle\u001b[0m\u001b[1;33m.\u001b[0m\u001b[0mPickler\u001b[0m\u001b[1;33m(\u001b[0m\u001b[0marchivo\u001b[0m\u001b[1;33m)\u001b[0m\u001b[1;33m\u001b[0m\u001b[0m\n\u001b[0;32m     11\u001b[0m     \u001b[0mpickler\u001b[0m\u001b[1;33m.\u001b[0m\u001b[0mdump\u001b[0m\u001b[1;33m(\u001b[0m\u001b[0mcontenido\u001b[0m\u001b[1;33m)\u001b[0m\u001b[1;33m\u001b[0m\u001b[0m\n",
      "\u001b[1;31mNameError\u001b[0m: global name 'pickle' is not defined"
     ]
    }
   ],
   "source": [
    "import utils\n",
    "\n",
    "curso = [\n",
    "    {'nombre': 'Sanchez, Lucas', 'nota': 8, 'padron': 90431, 'grupo': 1},\n",
    "    {'nombre': 'Gigliotti, Emanuel', 'nota': 2, 'padron': 92953, 'grupo': 1},\n",
    "    {'nombre': 'Aimar, Pablo', 'nota': 10, 'padron': 92407, 'grupo': 1},\n",
    "    {'nombre': 'Alario, Lucas', 'nota': 8, 'padron': 96556, 'grupo': 2},\n",
    "    {'nombre': 'Funes Mori, Rodrigo', 'nota': 7, 'padron': 92143, 'grupo': 2},\n",
    "    {'nombre': 'Funes Mori, Javier', 'nota': 9, 'padron': 92431, 'grupo': 2},\n",
    "    {'nombre': 'Aimar, Lucas', 'nota': 4, 'padron': 98306, 'grupo': 3},\n",
    "    {'nombre': 'Sanchez, Carlos', 'nota': 8, 'padron': 97972, 'grupo': 3},\n",
    "    {'nombre': 'Gago, Fernando', 'nota': 3, 'padron': 93108, 'grupo': 4},\n",
    "    {'nombre': 'Kranneviter, Matias', 'nota': 5, 'padron': 96739, 'grupo': 5},\n",
    "]\n",
    "\n",
    "print 'Creo el archivo vacío usando el modo \"wb\"'\n",
    "print 'Si tenía algo, ya lo borre...'\n",
    "with open('curso.pkl', 'wb') as archivo:\n",
    "    for alumno in curso:\n",
    "        print 'Guardando el alumno {} en el archivo'.format(alumno)\n",
    "        utils.guardar_en_archivo(archivo, alumno)\n",
    "\n",
    "print\n",
    "print 'Abro el archivo en modo lectura...'\n",
    "with open('curso.pkl', 'rb') as archivo:\n",
    "    alumno, seguir_leyendo = utils.leer_desde_archivo(archivo)\n",
    "    while seguir_leyendo:\n",
    "        print 'Leyendo el alumno {} en el archivo'.format(alumno)\n",
    "        alumno, seguir_leyendo = utils.leer_desde_archivo(archivo)\n"
   ]
  },
  {
   "cell_type": "markdown",
   "metadata": {},
   "source": [
    "## JSON\n",
    "\n",
    "Otra forma de guardar datos estructurados es usar un módulo llamado [json](https://docs.python.org/2/tutorial/inputoutput.html#saving-structured-data-with-json) y para esto se usan las funciones [dump](https://docs.python.org/2/library/json.html#json.dump) y [load](https://docs.python.org/2/library/json.html#json.load)."
   ]
  },
  {
   "cell_type": "markdown",
   "metadata": {
    "collapsed": true
   },
   "source": [
    "# Ejercicios\n",
    "\n",
    "1. Suponiendo que existe un archivo llamado utils.py donde se encuentran las funciones:\n",
    "\n",
    "```Python\n",
    "def guardar_en_archivo(archivo, contenido):\n",
    "    \"\"\"Guarda lo que le pasen como segundo parámetro en el archivo que\n",
    "    recibe como primer parámetro.\n",
    "    archivo tiene que estar abieto en modo binario y para escritura (wb)\n",
    "    \"\"\"\n",
    "    ...\n",
    "\n",
    "\n",
    "def leer_desde_archivo(archivo):\n",
    "    \"\"\"Lee del archivo archivo un registro y lo retorna junto con una\n",
    "    variable booleana que indica si llegó al fin de archivo o no.\n",
    "    archivo tiene que estar abieto en modo binario y para lectura (rb)\n",
    "    \"\"\"\n",
    "    ...\n",
    "    return data, fin_de_archivo\n",
    "```\n",
    "Leer dos archivos (61_matematica.dat y 75_computacion.dat) que tendrán registros con los campos:\n",
    "    * padron\n",
    "    * nombre\n",
    "    * apellido\n",
    "    * nota\n",
    "    * codigo_departamento\n",
    "    * codigo_materia\n",
    "y armar uno nuevo donde sólo figuren las notas de los alumnos aprobados ordenados por padrón.<br>\n",
    "Ambos archivos están ordenados por padrón y se deben leer una única vez. Como los archivos pueden ser muy grandes, no se pueden guardar en memoria.<br>\n",
    "Una vez procesados los dos archivos se tienen que informar, para cada materia, cuántos alumnos aprobaron y cuántos desaprobaron."
   ]
  },
  {
   "cell_type": "code",
   "execution_count": null,
   "metadata": {
    "collapsed": true
   },
   "outputs": [],
   "source": []
  }
 ],
 "metadata": {
  "kernelspec": {
   "display_name": "Python 2",
   "language": "python",
   "name": "python2"
  },
  "language_info": {
   "codemirror_mode": {
    "name": "ipython",
    "version": 2
   },
   "file_extension": ".py",
   "mimetype": "text/x-python",
   "name": "python",
   "nbconvert_exporter": "python",
   "pygments_lexer": "ipython2",
   "version": "2.7.9"
  }
 },
 "nbformat": 4,
 "nbformat_minor": 0
}
